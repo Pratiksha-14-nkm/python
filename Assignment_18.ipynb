{
 "cells": [
  {
   "cell_type": "markdown",
   "id": "f4f63790-f1c5-49d2-948a-ae7dd90dc827",
   "metadata": {},
   "source": [
    "## Assignment_No_18"
   ]
  },
  {
   "cell_type": "code",
   "execution_count": null,
   "id": "9897d3fe-3e6c-4ffd-9969-a8aff45fa389",
   "metadata": {},
   "outputs": [],
   "source": [
    "- representation\n",
    "\n",
    "- type\n",
    "\n",
    "- len\n",
    "\n",
    "- max\n",
    "\n",
    "- min\n",
    "\n",
    "- sum\n",
    "\n",
    "- sorted\n",
    "\n",
    "- reversed\n",
    "\n",
    "- in\n",
    "\n",
    "- for loop with in\n",
    "\n",
    "- index\n",
    "\n",
    "- for loop with index\n",
    "\n",
    "- mutable and immutable\n",
    "\n",
    "- slicing\n",
    "\n",
    "- concatenation\n",
    "\n",
    "- Methods"
   ]
  },
  {
   "cell_type": "code",
   "execution_count": null,
   "id": "a1be2eb6-bc07-4f0f-ad43-bf4ebd40977a",
   "metadata": {},
   "outputs": [],
   "source": [
    "**representation**\n",
    "- Tuples represented by round bracket\n",
    "- objects in it is seperated by ,\n"
   ]
  },
  {
   "cell_type": "code",
   "execution_count": 1,
   "id": "22671f95-a01d-4f7a-aa7a-9045d843c60f",
   "metadata": {},
   "outputs": [
    {
     "name": "stdout",
     "output_type": "stream",
     "text": [
      "('java', 'Python', 'CPP', 'HTML')\n"
     ]
    }
   ],
   "source": [
    "Tuple=(\"java\",\"Python\",\"CPP\",\"HTML\")\n",
    "print(Tuple)"
   ]
  },
  {
   "cell_type": "code",
   "execution_count": 16,
   "id": "f174210d-cd0e-4b25-bfe4-98eef3078a01",
   "metadata": {},
   "outputs": [
    {
     "data": {
      "text/plain": [
       "(100, 'Apple', ('A', 2))"
      ]
     },
     "execution_count": 16,
     "metadata": {},
     "output_type": "execute_result"
    }
   ],
   "source": [
    "t1=(100,'Apple',('A',2))\n",
    "t1"
   ]
  },
  {
   "cell_type": "code",
   "execution_count": 22,
   "id": "5b019137-9a8c-4fc5-8c39-eab3eaf3125d",
   "metadata": {},
   "outputs": [
    {
     "data": {
      "text/plain": [
       "('Apple', ('nareshIt',))"
      ]
     },
     "execution_count": 22,
     "metadata": {},
     "output_type": "execute_result"
    }
   ],
   "source": [
    "name=(\"nareshIt\",)\n",
    "t1=(\"Apple\",name)\n",
    "t1\n",
    "#var assigment also possible in the tuples"
   ]
  },
  {
   "cell_type": "code",
   "execution_count": 3,
   "id": "c09f0210-e2fd-4778-96c9-ca983f66e8a6",
   "metadata": {},
   "outputs": [
    {
     "data": {
      "text/plain": [
       "tuple"
      ]
     },
     "execution_count": 3,
     "metadata": {},
     "output_type": "execute_result"
    }
   ],
   "source": [
    "type(Tuple)"
   ]
  },
  {
   "cell_type": "code",
   "execution_count": 5,
   "id": "c01c8679-ac37-42c7-ac90-999d4fd32d10",
   "metadata": {},
   "outputs": [
    {
     "data": {
      "text/plain": [
       "tuple"
      ]
     },
     "execution_count": 5,
     "metadata": {},
     "output_type": "execute_result"
    }
   ],
   "source": [
    "a=(\"Apple\",)\n",
    "type(a)\n",
    "# here when we add only one item and find type of it- the ans will be str\n",
    "# so in such cases we have to add quama to make sure that the given \n",
    "# representation is tuple"
   ]
  },
  {
   "cell_type": "code",
   "execution_count": 6,
   "id": "b433ac37-2403-4b48-9ee3-5065ca8b1f14",
   "metadata": {},
   "outputs": [
    {
     "data": {
      "text/plain": [
       "5"
      ]
     },
     "execution_count": 6,
     "metadata": {},
     "output_type": "execute_result"
    }
   ],
   "source": [
    "tuple=(1,2,3,4,5)\n",
    "len(tuple)"
   ]
  },
  {
   "cell_type": "code",
   "execution_count": 7,
   "id": "06da2ffa-6838-4dc7-9484-ae7abec75473",
   "metadata": {},
   "outputs": [
    {
     "data": {
      "text/plain": [
       "4"
      ]
     },
     "execution_count": 7,
     "metadata": {},
     "output_type": "execute_result"
    }
   ],
   "source": [
    "tuple1=(\"ABB\",\"BCC\",\"CDD\",\"DEE\")\n",
    "len(tuple1)"
   ]
  },
  {
   "cell_type": "code",
   "execution_count": 8,
   "id": "cf621772-cadb-4a07-aea8-a63065603ab8",
   "metadata": {},
   "outputs": [
    {
     "data": {
      "text/plain": [
       "'DEE'"
      ]
     },
     "execution_count": 8,
     "metadata": {},
     "output_type": "execute_result"
    }
   ],
   "source": [
    "tuple1=(\"ABB\",\"BCC\",\"CDD\",\"DEE\")\n",
    "max(tuple1)"
   ]
  },
  {
   "cell_type": "code",
   "execution_count": 9,
   "id": "9f696b79-70a6-42b3-848c-6689065955d4",
   "metadata": {},
   "outputs": [
    {
     "data": {
      "text/plain": [
       "'ABB'"
      ]
     },
     "execution_count": 9,
     "metadata": {},
     "output_type": "execute_result"
    }
   ],
   "source": [
    "tuple1=(\"ABB\",\"BCC\",\"CDD\",\"DEE\")\n",
    "min(tuple1)"
   ]
  },
  {
   "cell_type": "code",
   "execution_count": 10,
   "id": "50482705-e290-447d-b9de-896983883d73",
   "metadata": {},
   "outputs": [
    {
     "name": "stdout",
     "output_type": "stream",
     "text": [
      "5\n",
      "1\n"
     ]
    }
   ],
   "source": [
    "tuple=(1,2,3,4,5)\n",
    "print(max(tuple))\n",
    "print(min(tuple))"
   ]
  },
  {
   "cell_type": "code",
   "execution_count": 12,
   "id": "c44215b3-9f73-4159-9228-885a237948ee",
   "metadata": {},
   "outputs": [
    {
     "name": "stdout",
     "output_type": "stream",
     "text": [
      "15\n"
     ]
    }
   ],
   "source": [
    "tuple=(1,2,3,4,5)\n",
    "print(sum(tuple))"
   ]
  },
  {
   "cell_type": "code",
   "execution_count": 13,
   "id": "c9d6b97b-5bd1-4f33-89d1-9770aa787ad8",
   "metadata": {},
   "outputs": [
    {
     "ename": "TypeError",
     "evalue": "unsupported operand type(s) for +: 'int' and 'str'",
     "output_type": "error",
     "traceback": [
      "\u001b[1;31m---------------------------------------------------------------------------\u001b[0m",
      "\u001b[1;31mTypeError\u001b[0m                                 Traceback (most recent call last)",
      "Cell \u001b[1;32mIn[13], line 2\u001b[0m\n\u001b[0;32m      1\u001b[0m tuple1\u001b[38;5;241m=\u001b[39m(\u001b[38;5;124m\"\u001b[39m\u001b[38;5;124mABB\u001b[39m\u001b[38;5;124m\"\u001b[39m,\u001b[38;5;124m\"\u001b[39m\u001b[38;5;124mBCC\u001b[39m\u001b[38;5;124m\"\u001b[39m,\u001b[38;5;124m\"\u001b[39m\u001b[38;5;124mCDD\u001b[39m\u001b[38;5;124m\"\u001b[39m,\u001b[38;5;124m\"\u001b[39m\u001b[38;5;124mDEE\u001b[39m\u001b[38;5;124m\"\u001b[39m)\n\u001b[1;32m----> 2\u001b[0m \u001b[38;5;28mprint\u001b[39m(\u001b[38;5;28msum\u001b[39m(tuple1))\n",
      "\u001b[1;31mTypeError\u001b[0m: unsupported operand type(s) for +: 'int' and 'str'"
     ]
    }
   ],
   "source": [
    "tuple1=(\"ABB\",\"BCC\",\"CDD\",\"DEE\")\n",
    "print(sum(tuple1))"
   ]
  },
  {
   "cell_type": "code",
   "execution_count": 24,
   "id": "1062a951-1cd1-46c6-9e9b-43a9b90a7228",
   "metadata": {},
   "outputs": [
    {
     "ename": "AttributeError",
     "evalue": "'tuple' object has no attribute 'sorted'",
     "output_type": "error",
     "traceback": [
      "\u001b[1;31m---------------------------------------------------------------------------\u001b[0m",
      "\u001b[1;31mAttributeError\u001b[0m                            Traceback (most recent call last)",
      "Cell \u001b[1;32mIn[24], line 2\u001b[0m\n\u001b[0;32m      1\u001b[0m t1\u001b[38;5;241m=\u001b[39m(\u001b[38;5;241m1\u001b[39m,\u001b[38;5;241m2\u001b[39m,\u001b[38;5;241m3\u001b[39m,\u001b[38;5;241m4\u001b[39m,\u001b[38;5;241m5\u001b[39m)\n\u001b[1;32m----> 2\u001b[0m t1\u001b[38;5;241m.\u001b[39msorted()\n",
      "\u001b[1;31mAttributeError\u001b[0m: 'tuple' object has no attribute 'sorted'"
     ]
    }
   ],
   "source": [
    "t1=(1,2,3,4,5)\n",
    "t1.sorted()"
   ]
  },
  {
   "cell_type": "code",
   "execution_count": 25,
   "id": "2d9218aa-4f9c-47a6-8c85-a4466752c95e",
   "metadata": {},
   "outputs": [
    {
     "ename": "AttributeError",
     "evalue": "'tuple' object has no attribute 'reversed'",
     "output_type": "error",
     "traceback": [
      "\u001b[1;31m---------------------------------------------------------------------------\u001b[0m",
      "\u001b[1;31mAttributeError\u001b[0m                            Traceback (most recent call last)",
      "Cell \u001b[1;32mIn[25], line 2\u001b[0m\n\u001b[0;32m      1\u001b[0m tuple1\u001b[38;5;241m=\u001b[39m(\u001b[38;5;124m\"\u001b[39m\u001b[38;5;124mABB\u001b[39m\u001b[38;5;124m\"\u001b[39m,\u001b[38;5;124m\"\u001b[39m\u001b[38;5;124mBCC\u001b[39m\u001b[38;5;124m\"\u001b[39m,\u001b[38;5;124m\"\u001b[39m\u001b[38;5;124mCDD\u001b[39m\u001b[38;5;124m\"\u001b[39m,\u001b[38;5;124m\"\u001b[39m\u001b[38;5;124mDEE\u001b[39m\u001b[38;5;124m\"\u001b[39m)\n\u001b[1;32m----> 2\u001b[0m tuple1\u001b[38;5;241m.\u001b[39mreversed()\n",
      "\u001b[1;31mAttributeError\u001b[0m: 'tuple' object has no attribute 'reversed'"
     ]
    }
   ],
   "source": [
    "tuple1=(\"ABB\",\"BCC\",\"CDD\",\"DEE\")\n",
    "tuple1.reversed()"
   ]
  },
  {
   "cell_type": "markdown",
   "id": "56aa5dd7-bdd5-4007-bd82-d2f416e7048b",
   "metadata": {},
   "source": [
    "**In**"
   ]
  },
  {
   "cell_type": "code",
   "execution_count": 27,
   "id": "b39d2a1c-2df5-4183-8e07-e8fce69c0aed",
   "metadata": {},
   "outputs": [
    {
     "data": {
      "text/plain": [
       "True"
      ]
     },
     "execution_count": 27,
     "metadata": {},
     "output_type": "execute_result"
    }
   ],
   "source": [
    "tuple1=(\"ABB\",\"BCC\",\"CDD\",\"DEE\")\n",
    "\"ABB\" in tuple1"
   ]
  },
  {
   "cell_type": "code",
   "execution_count": 28,
   "id": "0366e92e-23ef-407e-9450-431e9b18a508",
   "metadata": {},
   "outputs": [
    {
     "data": {
      "text/plain": [
       "True"
      ]
     },
     "execution_count": 28,
     "metadata": {},
     "output_type": "execute_result"
    }
   ],
   "source": [
    "tuple=(1,2,3,4,5)\n",
    "1 in tuple"
   ]
  },
  {
   "cell_type": "markdown",
   "id": "46979950-ace0-46d9-94bd-e8a2777a4bb0",
   "metadata": {},
   "source": [
    "**For loop with in**"
   ]
  },
  {
   "cell_type": "code",
   "execution_count": 30,
   "id": "449f339e-716b-43c3-a491-c3daf2aaab70",
   "metadata": {},
   "outputs": [
    {
     "name": "stdout",
     "output_type": "stream",
     "text": [
      "ABB\n",
      "BCC\n",
      "CDD\n",
      "DEE\n"
     ]
    }
   ],
   "source": [
    "tuple1=(\"ABB\",\"BCC\",\"CDD\",\"DEE\")\n",
    "for i in tuple1:\n",
    "    print(i)"
   ]
  },
  {
   "cell_type": "markdown",
   "id": "463b8bb3-169d-41c8-8ca6-196a216653f8",
   "metadata": {},
   "source": [
    "**Index**"
   ]
  },
  {
   "cell_type": "code",
   "execution_count": 37,
   "id": "007ba1da-a101-4e3c-84b5-84f61782eb89",
   "metadata": {},
   "outputs": [
    {
     "data": {
      "text/plain": [
       "(1, 'Apple', (True, False))"
      ]
     },
     "execution_count": 37,
     "metadata": {},
     "output_type": "execute_result"
    }
   ],
   "source": [
    "t2=(1,2,3,'Apple','Bat','Cat',(True,False))\n",
    "t2[0],t2[3],t2[6]\n",
    "#They allow you to access their elements by integer indices that start from zero."
   ]
  },
  {
   "cell_type": "code",
   "execution_count": 46,
   "id": "c9414a65-0783-4f1a-9c51-cea1d5c9cc91",
   "metadata": {},
   "outputs": [
    {
     "name": "stdout",
     "output_type": "stream",
     "text": [
      "21\n"
     ]
    }
   ],
   "source": [
    "t2=(1,2,3,'Apple','Bat','Cat',(True,False))\n",
    "sum=0\n",
    "for i in range(len(t2)):\n",
    "    sum=sum+i\n",
    "\n",
    "print(sum)\n",
    "# sum of all the index"
   ]
  },
  {
   "cell_type": "code",
   "execution_count": 49,
   "id": "a3075f72-c542-45d1-b4d9-e6ad0b21f790",
   "metadata": {},
   "outputs": [
    {
     "name": "stdout",
     "output_type": "stream",
     "text": [
      "the poditive index of 1 is 0\n",
      "the poditive index of 2 is 1\n",
      "the poditive index of 3 is 2\n",
      "the poditive index of Apple is 3\n",
      "the poditive index of Bat is 4\n",
      "the poditive index of Cat is 5\n",
      "the poditive index of (True, False) is 6\n"
     ]
    }
   ],
   "source": [
    "t2=(1,2,3,'Apple','Bat','Cat',(True,False))\n",
    "for i in range(len(t2)):\n",
    "    print(f\"the poditive index of {t2[i]} is {i}\")"
   ]
  },
  {
   "cell_type": "code",
   "execution_count": 53,
   "id": "ba888cf4-67ad-48dd-9cd2-a33c36d9e71a",
   "metadata": {},
   "outputs": [
    {
     "name": "stdout",
     "output_type": "stream",
     "text": [
      "the negative index of java = -4\n",
      "the negative index of Python = -3\n",
      "the negative index of CPP = -2\n",
      "the negative index of HTML = -1\n"
     ]
    }
   ],
   "source": [
    "Tuple=(\"java\",\"Python\",\"CPP\",\"HTML\")\n",
    "\n",
    "for i in range(len(Tuple)):\n",
    "    print(f\"the negative index of {Tuple[i]} = {i-(len(Tuple))}\")"
   ]
  },
  {
   "cell_type": "markdown",
   "id": "9649deb1-193b-4b8c-8b10-16286bb3f4cb",
   "metadata": {},
   "source": [
    "**mutable and immutable**"
   ]
  },
  {
   "cell_type": "code",
   "execution_count": 47,
   "id": "23078ab8-1eca-49a9-be65-e2a830f4778b",
   "metadata": {},
   "outputs": [
    {
     "ename": "TypeError",
     "evalue": "'tuple' object does not support item assignment",
     "output_type": "error",
     "traceback": [
      "\u001b[1;31m---------------------------------------------------------------------------\u001b[0m",
      "\u001b[1;31mTypeError\u001b[0m                                 Traceback (most recent call last)",
      "Cell \u001b[1;32mIn[47], line 2\u001b[0m\n\u001b[0;32m      1\u001b[0m tuple1\u001b[38;5;241m=\u001b[39m(\u001b[38;5;124m\"\u001b[39m\u001b[38;5;124mABB\u001b[39m\u001b[38;5;124m\"\u001b[39m,\u001b[38;5;124m\"\u001b[39m\u001b[38;5;124mBCC\u001b[39m\u001b[38;5;124m\"\u001b[39m,\u001b[38;5;124m\"\u001b[39m\u001b[38;5;124mCDD\u001b[39m\u001b[38;5;124m\"\u001b[39m,\u001b[38;5;124m\"\u001b[39m\u001b[38;5;124mDEE\u001b[39m\u001b[38;5;124m\"\u001b[39m)\n\u001b[1;32m----> 2\u001b[0m tuple1[\u001b[38;5;241m0\u001b[39m]\u001b[38;5;241m=\u001b[39m\u001b[38;5;124m\"\u001b[39m\u001b[38;5;124mABC\u001b[39m\u001b[38;5;124m\"\u001b[39m\n\u001b[0;32m      3\u001b[0m tuple1\n",
      "\u001b[1;31mTypeError\u001b[0m: 'tuple' object does not support item assignment"
     ]
    }
   ],
   "source": [
    "tuple1=(\"ABB\",\"BCC\",\"CDD\",\"DEE\")\n",
    "tuple1[0]=\"ABC\"\n",
    "tuple1"
   ]
  },
  {
   "cell_type": "code",
   "execution_count": null,
   "id": "d774950d-ae97-4265-9f43-f1b9404c931f",
   "metadata": {},
   "outputs": [],
   "source": [
    "- tuple is immutable as it does not support item assignment\n",
    "- tuple does not support changes in their original elements"
   ]
  },
  {
   "cell_type": "markdown",
   "id": "66f236f0-49bb-4b3f-8651-368a043ded22",
   "metadata": {},
   "source": [
    "**slicing**"
   ]
  },
  {
   "cell_type": "code",
   "execution_count": 54,
   "id": "9ad1a50b-fa93-47fc-b7c1-72328b35f311",
   "metadata": {},
   "outputs": [
    {
     "data": {
      "text/plain": [
       "('java', 'Python', 'CPP')"
      ]
     },
     "execution_count": 54,
     "metadata": {},
     "output_type": "execute_result"
    }
   ],
   "source": [
    "t1=(\"java\",\"Python\",\"CPP\",\"HTML\")\n",
    "t1[0:3]"
   ]
  },
  {
   "cell_type": "code",
   "execution_count": 57,
   "id": "0864ac6c-0e1f-4cae-8f16-de371ed94fa6",
   "metadata": {},
   "outputs": [
    {
     "data": {
      "text/plain": [
       "('CPP', 'HTML', (True, False))"
      ]
     },
     "execution_count": 57,
     "metadata": {},
     "output_type": "execute_result"
    }
   ],
   "source": [
    "t2=(\"java\",\"Python\",\"CPP\",\"HTML\",(True,False))\n",
    "t2[2:5]"
   ]
  },
  {
   "cell_type": "code",
   "execution_count": 58,
   "id": "cef9f194-ed20-4a18-b07c-a4abc4780276",
   "metadata": {},
   "outputs": [
    {
     "data": {
      "text/plain": [
       "('CPP', 'HTML', (True, False))"
      ]
     },
     "execution_count": 58,
     "metadata": {},
     "output_type": "execute_result"
    }
   ],
   "source": [
    "t2=(\"java\",\"Python\",\"CPP\",\"HTML\",(True,False))\n",
    "t2[2:]"
   ]
  },
  {
   "cell_type": "code",
   "execution_count": 59,
   "id": "2e405fa8-6d30-44cb-8a81-8b0de611bea2",
   "metadata": {},
   "outputs": [
    {
     "data": {
      "text/plain": [
       "('java',)"
      ]
     },
     "execution_count": 59,
     "metadata": {},
     "output_type": "execute_result"
    }
   ],
   "source": [
    "t2=(\"java\",\"Python\",\"CPP\",\"HTML\",(True,False))\n",
    "t2[::5]"
   ]
  },
  {
   "cell_type": "code",
   "execution_count": 60,
   "id": "1bd091a5-de89-41e1-b49c-85a9e57c690e",
   "metadata": {},
   "outputs": [
    {
     "data": {
      "text/plain": [
       "('Python', 'CPP', 'HTML', (True, False))"
      ]
     },
     "execution_count": 60,
     "metadata": {},
     "output_type": "execute_result"
    }
   ],
   "source": [
    "t2=(\"java\",\"Python\",\"CPP\",\"HTML\",(True,False))\n",
    "t2[1::]"
   ]
  },
  {
   "cell_type": "markdown",
   "id": "5c62e665-52e3-448c-94cf-df7b1d3f93bf",
   "metadata": {},
   "source": [
    "**concatenation**"
   ]
  },
  {
   "cell_type": "code",
   "execution_count": 61,
   "id": "7f8935f7-3996-4503-ba3c-e2a5032c7d10",
   "metadata": {},
   "outputs": [
    {
     "data": {
      "text/plain": [
       "(1, 2, 3, 4, 'A', 'B', 'C', 'D')"
      ]
     },
     "execution_count": 61,
     "metadata": {},
     "output_type": "execute_result"
    }
   ],
   "source": [
    "t=(1,2,3,4)\n",
    "t1=(\"A\",\"B\",\"C\",\"D\")\n",
    "t3=t+t1\n",
    "t3"
   ]
  },
  {
   "cell_type": "code",
   "execution_count": 62,
   "id": "21d1fd2b-cf71-4eb0-a974-2d9df903e955",
   "metadata": {},
   "outputs": [
    {
     "ename": "TypeError",
     "evalue": "unsupported operand type(s) for -: 'tuple' and 'tuple'",
     "output_type": "error",
     "traceback": [
      "\u001b[1;31m---------------------------------------------------------------------------\u001b[0m",
      "\u001b[1;31mTypeError\u001b[0m                                 Traceback (most recent call last)",
      "Cell \u001b[1;32mIn[62], line 3\u001b[0m\n\u001b[0;32m      1\u001b[0m t\u001b[38;5;241m=\u001b[39m(\u001b[38;5;241m1\u001b[39m,\u001b[38;5;241m2\u001b[39m,\u001b[38;5;241m3\u001b[39m,\u001b[38;5;241m4\u001b[39m)\n\u001b[0;32m      2\u001b[0m t1\u001b[38;5;241m=\u001b[39m(\u001b[38;5;124m\"\u001b[39m\u001b[38;5;124mA\u001b[39m\u001b[38;5;124m\"\u001b[39m,\u001b[38;5;124m\"\u001b[39m\u001b[38;5;124mB\u001b[39m\u001b[38;5;124m\"\u001b[39m,\u001b[38;5;124m\"\u001b[39m\u001b[38;5;124mC\u001b[39m\u001b[38;5;124m\"\u001b[39m,\u001b[38;5;124m\"\u001b[39m\u001b[38;5;124mD\u001b[39m\u001b[38;5;124m\"\u001b[39m)\n\u001b[1;32m----> 3\u001b[0m \u001b[38;5;28mprint\u001b[39m(t\u001b[38;5;241m-\u001b[39mt1)\n",
      "\u001b[1;31mTypeError\u001b[0m: unsupported operand type(s) for -: 'tuple' and 'tuple'"
     ]
    }
   ],
   "source": [
    "t=(1,2,3,4)\n",
    "t1=(\"A\",\"B\",\"C\",\"D\")\n",
    "print(t-t1)"
   ]
  },
  {
   "cell_type": "code",
   "execution_count": 63,
   "id": "f7ec3d09-9b91-44f6-85a9-5e8713637655",
   "metadata": {},
   "outputs": [
    {
     "ename": "TypeError",
     "evalue": "can't multiply sequence by non-int of type 'tuple'",
     "output_type": "error",
     "traceback": [
      "\u001b[1;31m---------------------------------------------------------------------------\u001b[0m",
      "\u001b[1;31mTypeError\u001b[0m                                 Traceback (most recent call last)",
      "Cell \u001b[1;32mIn[63], line 3\u001b[0m\n\u001b[0;32m      1\u001b[0m t\u001b[38;5;241m=\u001b[39m(\u001b[38;5;241m1\u001b[39m,\u001b[38;5;241m2\u001b[39m,\u001b[38;5;241m3\u001b[39m,\u001b[38;5;241m4\u001b[39m)\n\u001b[0;32m      2\u001b[0m t1\u001b[38;5;241m=\u001b[39m(\u001b[38;5;124m\"\u001b[39m\u001b[38;5;124mA\u001b[39m\u001b[38;5;124m\"\u001b[39m,\u001b[38;5;124m\"\u001b[39m\u001b[38;5;124mB\u001b[39m\u001b[38;5;124m\"\u001b[39m,\u001b[38;5;124m\"\u001b[39m\u001b[38;5;124mC\u001b[39m\u001b[38;5;124m\"\u001b[39m,\u001b[38;5;124m\"\u001b[39m\u001b[38;5;124mD\u001b[39m\u001b[38;5;124m\"\u001b[39m)\n\u001b[1;32m----> 3\u001b[0m \u001b[38;5;28mprint\u001b[39m(t\u001b[38;5;241m*\u001b[39mt1)\n",
      "\u001b[1;31mTypeError\u001b[0m: can't multiply sequence by non-int of type 'tuple'"
     ]
    }
   ],
   "source": [
    "t=(1,2,3,4)\n",
    "t1=(\"A\",\"B\",\"C\",\"D\")\n",
    "print(t*t1)"
   ]
  },
  {
   "cell_type": "code",
   "execution_count": 64,
   "id": "c7627093-631a-47e9-8d5f-f5bd218f0790",
   "metadata": {},
   "outputs": [
    {
     "ename": "TypeError",
     "evalue": "unsupported operand type(s) for /: 'tuple' and 'tuple'",
     "output_type": "error",
     "traceback": [
      "\u001b[1;31m---------------------------------------------------------------------------\u001b[0m",
      "\u001b[1;31mTypeError\u001b[0m                                 Traceback (most recent call last)",
      "Cell \u001b[1;32mIn[64], line 3\u001b[0m\n\u001b[0;32m      1\u001b[0m t\u001b[38;5;241m=\u001b[39m(\u001b[38;5;241m1\u001b[39m,\u001b[38;5;241m2\u001b[39m,\u001b[38;5;241m3\u001b[39m,\u001b[38;5;241m4\u001b[39m)\n\u001b[0;32m      2\u001b[0m t1\u001b[38;5;241m=\u001b[39m(\u001b[38;5;124m\"\u001b[39m\u001b[38;5;124mA\u001b[39m\u001b[38;5;124m\"\u001b[39m,\u001b[38;5;124m\"\u001b[39m\u001b[38;5;124mB\u001b[39m\u001b[38;5;124m\"\u001b[39m,\u001b[38;5;124m\"\u001b[39m\u001b[38;5;124mC\u001b[39m\u001b[38;5;124m\"\u001b[39m,\u001b[38;5;124m\"\u001b[39m\u001b[38;5;124mD\u001b[39m\u001b[38;5;124m\"\u001b[39m)\n\u001b[1;32m----> 3\u001b[0m \u001b[38;5;28mprint\u001b[39m(t\u001b[38;5;241m/\u001b[39mt1)\n",
      "\u001b[1;31mTypeError\u001b[0m: unsupported operand type(s) for /: 'tuple' and 'tuple'"
     ]
    }
   ],
   "source": [
    "t=(1,2,3,4)\n",
    "t1=(\"A\",\"B\",\"C\",\"D\")\n",
    "print(t/t1)"
   ]
  },
  {
   "cell_type": "code",
   "execution_count": 73,
   "id": "5d66c6dc-2a05-44f9-8599-a445b1bd1fbe",
   "metadata": {},
   "outputs": [
    {
     "ename": "AttributeError",
     "evalue": "'tuple' object has no attribute 'mul'",
     "output_type": "error",
     "traceback": [
      "\u001b[1;31m---------------------------------------------------------------------------\u001b[0m",
      "\u001b[1;31mAttributeError\u001b[0m                            Traceback (most recent call last)",
      "Cell \u001b[1;32mIn[73], line 3\u001b[0m\n\u001b[0;32m      1\u001b[0m t\u001b[38;5;241m=\u001b[39m(\u001b[38;5;241m1\u001b[39m,\u001b[38;5;241m2\u001b[39m,\u001b[38;5;241m3\u001b[39m,\u001b[38;5;241m4\u001b[39m)\n\u001b[0;32m      2\u001b[0m t2\u001b[38;5;241m=\u001b[39m(\u001b[38;5;241m5\u001b[39m,\u001b[38;5;241m6\u001b[39m,\u001b[38;5;241m7\u001b[39m,\u001b[38;5;241m8\u001b[39m)\n\u001b[1;32m----> 3\u001b[0m t2\u001b[38;5;241m.\u001b[39mmul()\n",
      "\u001b[1;31mAttributeError\u001b[0m: 'tuple' object has no attribute 'mul'"
     ]
    }
   ],
   "source": [
    "t=(1,2,3,4)\n",
    "t2=(5,6,7,8)\n",
    "print(t*t2)"
   ]
  },
  {
   "cell_type": "code",
   "execution_count": 69,
   "id": "b32df090-708c-4893-a30f-04bea91f5740",
   "metadata": {},
   "outputs": [
    {
     "data": {
      "text/plain": [
       "18"
      ]
     },
     "execution_count": 69,
     "metadata": {},
     "output_type": "execute_result"
    }
   ],
   "source": [
    "t=(1,2,3,4)\n",
    "t2=(5,6,7,8)\n",
    "t[2]*t2[1]\n"
   ]
  },
  {
   "cell_type": "code",
   "execution_count": 44,
   "id": "7b16b149-0cf6-46df-a867-9073d6b32233",
   "metadata": {},
   "outputs": [
    {
     "data": {
      "text/plain": [
       "('A', 'B', 'C', 'D', 1, 2, 4, 'Apple', True)"
      ]
     },
     "execution_count": 44,
     "metadata": {},
     "output_type": "execute_result"
    }
   ],
   "source": [
    "t1=(\"A\",\"B\",\"C\",\"D\")\n",
    "t2=(1,2,4,\"Apple\",True)\n",
    "t=t1+t2\n",
    "t"
   ]
  },
  {
   "cell_type": "code",
   "execution_count": 5,
   "id": "335ae5af-3336-4d89-86d0-50c2b36ace2a",
   "metadata": {},
   "outputs": [
    {
     "data": {
      "text/plain": [
       "3"
      ]
     },
     "execution_count": 5,
     "metadata": {},
     "output_type": "execute_result"
    }
   ],
   "source": [
    "tup1=(1,2,3,4,3,5,3,6,7,4,6,4,8,6,3)\n",
    "tup1.count(6)\n",
    "# count how many times the element has occured in the tuple."
   ]
  },
  {
   "cell_type": "code",
   "execution_count": 6,
   "id": "2d002686-56f1-4e2b-801d-440aa4a85ca0",
   "metadata": {},
   "outputs": [
    {
     "data": {
      "text/plain": [
       "3"
      ]
     },
     "execution_count": 6,
     "metadata": {},
     "output_type": "execute_result"
    }
   ],
   "source": [
    "tup1=(1,2,3,4,3,5,3,6,7,4,6,4,8,6,3)\n",
    "t=tup1.count(4)\n",
    "t"
   ]
  },
  {
   "cell_type": "code",
   "execution_count": 7,
   "id": "3860c321-08f1-482c-beb4-9a53fe1f2fe1",
   "metadata": {},
   "outputs": [
    {
     "data": {
      "text/plain": [
       "2"
      ]
     },
     "execution_count": 7,
     "metadata": {},
     "output_type": "execute_result"
    }
   ],
   "source": [
    "#Index\n",
    "tup1=(1,2,3,4,3,5,3,6,7,4,6,4,8,6,3)\n",
    "t=tup1.index(3)\n",
    "t"
   ]
  },
  {
   "cell_type": "code",
   "execution_count": 11,
   "id": "832e7c10-b1c8-41c8-8b4d-a21968f88ae6",
   "metadata": {},
   "outputs": [
    {
     "data": {
      "text/plain": [
       "2"
      ]
     },
     "execution_count": 11,
     "metadata": {},
     "output_type": "execute_result"
    }
   ],
   "source": [
    "tup1=(1,2,3,4,3,5,3,6,7,4,6,4,8,6,3)\n",
    "t=tup1.index(3, 1, 9)\n",
    "t"
   ]
  },
  {
   "cell_type": "code",
   "execution_count": 13,
   "id": "cf468359-edd7-4e5a-83b4-139b2759cbfd",
   "metadata": {},
   "outputs": [
    {
     "data": {
      "text/plain": [
       "4"
      ]
     },
     "execution_count": 13,
     "metadata": {},
     "output_type": "execute_result"
    }
   ],
   "source": [
    "tup1=(1,2,3,4,3,5,3,6,7,4,6,4,8,6,3)\n",
    "tup1.index(3,3,5)"
   ]
  },
  {
   "cell_type": "code",
   "execution_count": 15,
   "id": "8afff076-6fa6-45da-b491-d82967a4e5d9",
   "metadata": {},
   "outputs": [
    {
     "data": {
      "text/plain": [
       "9"
      ]
     },
     "execution_count": 15,
     "metadata": {},
     "output_type": "execute_result"
    }
   ],
   "source": [
    "tup1=(1,2,3,4,3,5,3,6,7,4,6,4,8,6,3)\n",
    "tup1.index(4,7,12)"
   ]
  },
  {
   "cell_type": "markdown",
   "id": "7822459b-f074-42be-8abc-fdadfc3d6031",
   "metadata": {},
   "source": [
    "- index method returns the first occurance of the given element\n",
    "- syntax: tuple.index(element,start,end)\n",
    "- if we enter the element which is not present in the tuple it will give error:valueError"
   ]
  },
  {
   "cell_type": "code",
   "execution_count": 16,
   "id": "a1e60f95-3e09-4c66-9d8c-a1251c967670",
   "metadata": {},
   "outputs": [
    {
     "data": {
      "text/plain": [
       "8"
      ]
     },
     "execution_count": 16,
     "metadata": {},
     "output_type": "execute_result"
    }
   ],
   "source": [
    "tup=(1,2,4,6,3,8,6,7)\n",
    "l=len(tup)\n",
    "l"
   ]
  },
  {
   "cell_type": "code",
   "execution_count": 39,
   "id": "c3a5a133-9eb4-4c75-94e9-024bd1c113f9",
   "metadata": {},
   "outputs": [],
   "source": [
    "tup=(1,2,4,6,3,8,6,7)\n"
   ]
  },
  {
   "cell_type": "code",
   "execution_count": null,
   "id": "cefcbd7b-88a4-4421-b061-42550345038f",
   "metadata": {},
   "outputs": [],
   "source": []
  },
  {
   "cell_type": "code",
   "execution_count": null,
   "id": "c2d20d68-c54f-47eb-aa64-cc603a3abe5f",
   "metadata": {},
   "outputs": [],
   "source": []
  },
  {
   "cell_type": "code",
   "execution_count": null,
   "id": "f3c27b4b-9c54-4da9-8564-7abc3628fd63",
   "metadata": {},
   "outputs": [],
   "source": []
  }
 ],
 "metadata": {
  "kernelspec": {
   "display_name": "Python 3 (ipykernel)",
   "language": "python",
   "name": "python3"
  },
  "language_info": {
   "codemirror_mode": {
    "name": "ipython",
    "version": 3
   },
   "file_extension": ".py",
   "mimetype": "text/x-python",
   "name": "python",
   "nbconvert_exporter": "python",
   "pygments_lexer": "ipython3",
   "version": "3.11.7"
  }
 },
 "nbformat": 4,
 "nbformat_minor": 5
}
