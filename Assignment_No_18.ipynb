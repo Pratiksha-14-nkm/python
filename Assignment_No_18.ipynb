{
 "cells": [
  {
   "cell_type": "markdown",
   "id": "c67a3ff9-9a3c-41f7-ace8-439f0d3c37b4",
   "metadata": {},
   "source": [
    "**Map,Filter,Reduce**"
   ]
  },
  {
   "cell_type": "markdown",
   "id": "016779d7-7eb1-4ff6-85aa-d6d89a83718f",
   "metadata": {},
   "source": [
    "- These are built-in function \n",
    "- That allow us to apply a function to a sequence of elements and return a new sequence.\n",
    "- These functions are known as higher-order functions\n",
    "- As they take other functions as arguments"
   ]
  },
  {
   "cell_type": "markdown",
   "id": "a2009502-74e4-4d3f-8e41-572fe0e0c1a4",
   "metadata": {},
   "source": [
    "**map**"
   ]
  },
  {
   "cell_type": "markdown",
   "id": "c2bab142-336f-4bbc-9c06-d156c4483bf3",
   "metadata": {},
   "source": [
    "- map function applies a function to each element in a sequence\n",
    "- then returns a new sequence which containing the transformed elements\n",
    "- syntax: map(function:iterable)\n",
    "    - function argument:function that is applied to each element in the iterable argument\n",
    "    - iterable argument: it can be a List,Tuple or any other iterable object"
   ]
  },
  {
   "cell_type": "code",
   "execution_count": 4,
   "id": "28022b77-6e94-41e5-a615-6fc7b9d36820",
   "metadata": {},
   "outputs": [
    {
     "name": "stdout",
     "output_type": "stream",
     "text": [
      "[8, 64, 27, 125, 216]\n"
     ]
    }
   ],
   "source": [
    "# cube of elements in a List\n",
    "l1=[2,4,3,5,6]\n",
    "new_l1=[]\n",
    "for i in l1:\n",
    "    new_l1.append(i*i*i)\n",
    "\n",
    "print(new_l1)"
   ]
  },
  {
   "cell_type": "code",
   "execution_count": 7,
   "id": "18d95882-f757-490a-8282-df0f419d40db",
   "metadata": {},
   "outputs": [
    {
     "data": {
      "text/plain": [
       "[8, 64, 27, 125, 216]"
      ]
     },
     "execution_count": 7,
     "metadata": {},
     "output_type": "execute_result"
    }
   ],
   "source": [
    "# with the help of map\n",
    "l1=[2,4,3,5,6]\n",
    "list(map(lambda x:x**3,l1))"
   ]
  },
  {
   "cell_type": "code",
   "execution_count": 13,
   "id": "d6ff9f64-a4bc-4370-9324-8a1d201a7d3e",
   "metadata": {},
   "outputs": [
    {
     "data": {
      "text/plain": [
       "['Mumbai', 'Delhi', 'Pune', 'Hyd']"
      ]
     },
     "execution_count": 13,
     "metadata": {},
     "output_type": "execute_result"
    }
   ],
   "source": [
    "l2=['mumbai','delhi','pune','hyd']\n",
    "list(map(lambda i:i.title(), l2))"
   ]
  },
  {
   "cell_type": "markdown",
   "id": "d960eef5-dc6f-4283-a46b-ff986f8569c0",
   "metadata": {},
   "source": [
    "**Filter**"
   ]
  },
  {
   "cell_type": "markdown",
   "id": "62f3282e-dafe-419b-9141-68a2a50a118a",
   "metadata": {},
   "source": [
    "- Filter function filters a sequence of element based on a given condition\n",
    "- And return a new sequence containing only a elements that meet the condition\n",
    "- Syntax for Filter: Filter(Condition,iterator)"
   ]
  },
  {
   "cell_type": "code",
   "execution_count": 14,
   "id": "33882219-8d03-4ec7-8a5c-9b3f0bf5ef08",
   "metadata": {},
   "outputs": [
    {
     "data": {
      "text/plain": [
       "[4, 6, 8, 2]"
      ]
     },
     "execution_count": 14,
     "metadata": {},
     "output_type": "execute_result"
    }
   ],
   "source": [
    "# to find even number from the list using filter function\n",
    "l2=[4,3,6,7,9,5,8,1,2]\n",
    "list(filter(lambda x:(x%2==0),l2))"
   ]
  },
  {
   "cell_type": "code",
   "execution_count": 16,
   "id": "8d7252bd-7e5c-44d5-ac1d-53d93188f136",
   "metadata": {},
   "outputs": [
    {
     "name": "stdout",
     "output_type": "stream",
     "text": [
      "[4, 6, 8, 2]\n"
     ]
    }
   ],
   "source": [
    "# without filter function\n",
    "l2=[4,3,6,7,9,5,8,1,2]\n",
    "new_l2=[]\n",
    "for i in l2:\n",
    "    if i%2==0:\n",
    "        new_l2.append(i)\n",
    "print(new_l2)"
   ]
  },
  {
   "cell_type": "markdown",
   "id": "f4389bec-ac9c-4ee5-8814-ef169efbceb5",
   "metadata": {},
   "source": [
    "- as we can see filter function have condition (i%2==0) \n",
    "- which filter out the even numbers from the given list\n",
    "- filter function always have a condition eighter True or False\n",
    "- based on the condition it will pass the output\n",
    "- in these case, we want output in the list form so we have apply list.\n",
    "- to get the output in list.\n",
    "- these are in-line functions,reduce the line of code."
   ]
  },
  {
   "cell_type": "markdown",
   "id": "b2e2d94c-f3e8-468b-805c-d9cea1558c75",
   "metadata": {},
   "source": [
    "**Reduce**"
   ]
  },
  {
   "cell_type": "markdown",
   "id": "a524a138-202d-42cd-a4ed-8f79ced64bdd",
   "metadata": {},
   "source": [
    "- Reduce function provides a single value on execution\n",
    "- these function takes another function and sequence of itherables as parameter\n",
    "- The function tool module must be used to import this function\n",
    "- Syntax:reduce(function,iterables)"
   ]
  },
  {
   "cell_type": "code",
   "execution_count": 18,
   "id": "e869fc9b-2145-49b1-a3bb-c95b12bf207e",
   "metadata": {},
   "outputs": [
    {
     "data": {
      "text/plain": [
       "35"
      ]
     },
     "execution_count": 18,
     "metadata": {},
     "output_type": "execute_result"
    }
   ],
   "source": [
    "# sum of all the elements in the list\n",
    "import functools as ft\n",
    "l3=[2,3,4,7,5,6,8]\n",
    "ft.reduce(lambda sum,i:sum+i,l3)\n",
    "# step-1:Import the functools \n",
    "# step-2:apply lambda function <agruments>:<expression>,<list>"
   ]
  },
  {
   "cell_type": "code",
   "execution_count": 19,
   "id": "ba1ffa9a-46c7-4e89-b821-819126fce01a",
   "metadata": {},
   "outputs": [
    {
     "data": {
      "text/plain": [
       "10"
      ]
     },
     "execution_count": 19,
     "metadata": {},
     "output_type": "execute_result"
    }
   ],
   "source": [
    "# to find the max value from the list\n",
    "import functools as ft\n",
    "l4=[4,3,6,7,8,9,10]\n",
    "ft.reduce(lambda x,y:x if x>y else y,l4)"
   ]
  },
  {
   "cell_type": "code",
   "execution_count": 20,
   "id": "e7105ac1-eba6-41cb-905c-fac987e4747e",
   "metadata": {},
   "outputs": [
    {
     "data": {
      "text/plain": [
       "3"
      ]
     },
     "execution_count": 20,
     "metadata": {},
     "output_type": "execute_result"
    }
   ],
   "source": [
    "# to find min \n",
    "import functools as ft\n",
    "l4=[4,3,6,7,8,9,10]\n",
    "ft.reduce(lambda x,y:x if x<y else y,l4)"
   ]
  },
  {
   "cell_type": "code",
   "execution_count": null,
   "id": "5c52cf9e-29d6-476e-b0ea-cc9ac8319ee3",
   "metadata": {},
   "outputs": [],
   "source": []
  }
 ],
 "metadata": {
  "kernelspec": {
   "display_name": "Python 3 (ipykernel)",
   "language": "python",
   "name": "python3"
  },
  "language_info": {
   "codemirror_mode": {
    "name": "ipython",
    "version": 3
   },
   "file_extension": ".py",
   "mimetype": "text/x-python",
   "name": "python",
   "nbconvert_exporter": "python",
   "pygments_lexer": "ipython3",
   "version": "3.11.7"
  }
 },
 "nbformat": 4,
 "nbformat_minor": 5
}
