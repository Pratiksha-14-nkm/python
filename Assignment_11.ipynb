{
 "cells": [
  {
   "cell_type": "markdown",
   "id": "c600cf22-4aab-4aad-ab33-5e6740aa5bfa",
   "metadata": {},
   "source": [
    "## Assignment no-11"
   ]
  },
  {
   "cell_type": "code",
   "execution_count": 3,
   "id": "efa5afc7-988b-46df-b1e0-3114361b7eb6",
   "metadata": {},
   "outputs": [
    {
     "name": "stdout",
     "output_type": "stream",
     "text": [
      "The Count ola in given string:4\n"
     ]
    }
   ],
   "source": [
    "# Q14) string1='ola ola ola'\n",
    "# Number of ola  = 3\n",
    "\n",
    "str='ola ola ola ola'\n",
    "n=str.split()\n",
    "count=0\n",
    "s1=' '\n",
    "for i in n:\n",
    "    if i not in s1:\n",
    "        count=count+1\n",
    "print(f\"The Count ola in given string:{count}\")\n",
    "    "
   ]
  },
  {
   "cell_type": "code",
   "execution_count": 4,
   "id": "530e6d0f-547c-41a2-addf-04b1aaab7b49",
   "metadata": {},
   "outputs": [
    {
     "name": "stdout",
     "output_type": "stream",
     "text": [
      "{'hello': 3, 'how': 4, 'are': 1, 'you': 1}\n"
     ]
    }
   ],
   "source": [
    "# Q15) string1='hello hello hello how how how how are you'\n",
    "# What is the most repeated word : how\n",
    "\n",
    "str1='hello hello hello how how how how are you'\n",
    "s=str1.split()\n",
    "s1={}\n",
    "count=0\n",
    "for i in s:\n",
    "    if i not in s1:\n",
    "        count=count+1\n",
    "        s1[i]=1\n",
    "    else:\n",
    "        s1[i] += 1\n",
    "print(s1)"
   ]
  },
  {
   "cell_type": "code",
   "execution_count": 7,
   "id": "1af6dd01-1072-4a66-bae9-680a94bc07ba",
   "metadata": {},
   "outputs": [
    {
     "name": "stdout",
     "output_type": "stream",
     "text": [
      "the maximum length of word:hellooooo\n",
      "the minimum length of word:u\n"
     ]
    }
   ],
   "source": [
    "# Q16) string1='hellooooo how aree u'\n",
    "# what is the maximum length of word: helloooo\n",
    "# what is the minimum length of word: u\n",
    "\n",
    "str2='hellooooo how aree u'\n",
    "s2=str2.split()\n",
    "max=min=s2[0]\n",
    "for i in range(0,len(s2)):\n",
    "    if len(max)<len(s2[i]):\n",
    "        max=s2[i]\n",
    "    else:\n",
    "        len(min)>len(s2[i])\n",
    "        min=s2[i]\n",
    "\n",
    "print(f\"the maximum length of word:{max}\")\n",
    "print(f\"the minimum length of word:{min}\")\n",
    "    \n",
    "    "
   ]
  },
  {
   "cell_type": "code",
   "execution_count": null,
   "id": "aea4aef5-ab49-4db2-b47e-4a3ef679a8ee",
   "metadata": {},
   "outputs": [],
   "source": []
  }
 ],
 "metadata": {
  "kernelspec": {
   "display_name": "Python 3 (ipykernel)",
   "language": "python",
   "name": "python3"
  },
  "language_info": {
   "codemirror_mode": {
    "name": "ipython",
    "version": 3
   },
   "file_extension": ".py",
   "mimetype": "text/x-python",
   "name": "python",
   "nbconvert_exporter": "python",
   "pygments_lexer": "ipython3",
   "version": "3.11.7"
  }
 },
 "nbformat": 4,
 "nbformat_minor": 5
}
